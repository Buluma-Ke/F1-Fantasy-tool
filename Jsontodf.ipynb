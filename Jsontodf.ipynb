{
 "cells": [
  {
   "cell_type": "code",
   "execution_count": 9,
   "id": "f05e1a99",
   "metadata": {},
   "outputs": [
    {
     "name": "stdout",
     "output_type": "stream",
     "text": [
      "2024\n"
     ]
    }
   ],
   "source": [
    "import pandas as pd\n",
    "import json\n",
    "import pprint\n",
    "\n",
    "\n",
    "# Load Json file\n",
    "with open('f1fantasydata2024.json') as f:\n",
    "    data = json.load(f)\n",
    "\n",
    "#pprint.pprint(data)\n",
    "\n",
    "season = data['seasonResult']['season']\n",
    "print(season)\n",
    "race_results = data['seasonResult']['raceResults']\n",
    "#print(race_results)\n",
    "\n",
    "drivers = data['seasonResult']['raceResults']['1']['drivers']\n"
   ]
  },
  {
   "cell_type": "code",
   "execution_count": 17,
   "id": "c1656a68",
   "metadata": {},
   "outputs": [],
   "source": [
    "gas = drivers[0]"
   ]
  },
  {
   "cell_type": "code",
   "execution_count": 18,
   "id": "44903110",
   "metadata": {},
   "outputs": [
    {
     "data": {
      "text/plain": [
       "{'id': 'ALP_GAS',\n",
       " 'abbreviation': 'GAS',\n",
       " 'type': 'driver',\n",
       " 'isActive': True,\n",
       " 'color': '#ff87bc',\n",
       " 'price': 7.8,\n",
       " 'totalPoints': 6,\n",
       " 'nnTotalPoints': 6,\n",
       " 'priceChange': -0.1,\n",
       " 'percentOwned': 30,\n",
       " 'x2PercentOwned': 0,\n",
       " 'raceResult': {'Q': {'positionPoints': {'points': 0,\n",
       "    'text': '20th place',\n",
       "    'nnPoints': 0},\n",
       "   'notClassifiedPoints': {'points': 0,\n",
       "    'text': 'Not Classified',\n",
       "    'nnPoints': 0},\n",
       "   'disqualifiedPoints': {'points': 0, 'text': 'Disqualified', 'nnPoints': 0},\n",
       "   'totalPoints': {'points': 0, 'text': 'Qualifying Points', 'nnPoints': 0},\n",
       "   'teamworkPoints': {'points': 0, 'text': '', 'nnPoints': 0}},\n",
       "  'R': {'positionPoints': {'points': 0, 'text': '18th place', 'nnPoints': 0},\n",
       "   'notClassifiedPoints': {'points': 0,\n",
       "    'text': 'Not Classified',\n",
       "    'nnPoints': 0},\n",
       "   'disqualifiedPoints': {'points': 0, 'text': 'Disqualified', 'nnPoints': 0},\n",
       "   'totalPoints': {'points': 6, 'text': 'Race Points', 'nnPoints': 6},\n",
       "   'fastestLapPoints': {'points': 0, 'text': 'Fastest Lap', 'nnPoints': 0},\n",
       "   'overtakes': {'points': 4, 'text': '4 overtakes made', 'nnPoints': 4},\n",
       "   'positionsGained': {'points': 2,\n",
       "    'text': '2 positions gained',\n",
       "    'nnPoints': 2},\n",
       "   'dotdPoints': {'points': 0, 'text': 'Driver of the Day', 'nnPoints': 0},\n",
       "   'fastestPitStopPoints': {'points': 0, 'text': '', 'nnPoints': 0},\n",
       "   'overallFastestPitStopPoints': {'points': 0,\n",
       "    'text': 'Overall fastest pit stop',\n",
       "    'nnPoints': 0},\n",
       "   'worldRecordPitStopPoints': {'points': 0,\n",
       "    'text': 'World record pit stop',\n",
       "    'nnPoints': 0}}},\n",
       " 'constructorId': 'ALP',\n",
       " 'pointsPerMillion': 0.7692307692307693,\n",
       " 'sprintPosition': None,\n",
       " 'sprintFastestLap': None,\n",
       " 'sprintPositionsGained': None,\n",
       " 'sprintOvertakes': None,\n",
       " 'sprintDnf': None,\n",
       " 'qualifyingPosition': '20',\n",
       " 'racePosition': '18',\n",
       " 'raceFastestLap': False,\n",
       " 'raceDnf': False,\n",
       " 'racePositionsGained': 2,\n",
       " 'raceOvertakes': 4,\n",
       " 'raceDriverOfTheDay': False}"
      ]
     },
     "execution_count": 18,
     "metadata": {},
     "output_type": "execute_result"
    }
   ],
   "source": [
    "gas"
   ]
  },
  {
   "cell_type": "code",
   "execution_count": 19,
   "id": "68beca9e",
   "metadata": {},
   "outputs": [
    {
     "data": {
      "text/plain": [
       "20"
      ]
     },
     "execution_count": 19,
     "metadata": {},
     "output_type": "execute_result"
    }
   ],
   "source": [
    "len(drivers)"
   ]
  },
  {
   "cell_type": "code",
   "execution_count": 24,
   "id": "fdf5ea74",
   "metadata": {},
   "outputs": [
    {
     "name": "stdout",
     "output_type": "stream",
     "text": [
      "{'id': 'ALP_GAS', 'abbreviation': 'GAS', 'type': 'driver', 'isActive': True, 'color': '#ff87bc', 'price': 7.8, 'totalPoints': 6, 'nnTotalPoints': 6, 'priceChange': -0.1, 'percentOwned': 30, 'x2PercentOwned': 0}\n"
     ]
    }
   ],
   "source": [
    "gas_dict = {}\n",
    "\n",
    "for key, value in gas.items():\n",
    "    if key == 'raceResult':\n",
    "        break\n",
    "    gas_dict[key] = value\n",
    "\n",
    "\n",
    "print(gas_dict)"
   ]
  }
 ],
 "metadata": {
  "kernelspec": {
   "display_name": "Python 3",
   "language": "python",
   "name": "python3"
  },
  "language_info": {
   "codemirror_mode": {
    "name": "ipython",
    "version": 3
   },
   "file_extension": ".py",
   "mimetype": "text/x-python",
   "name": "python",
   "nbconvert_exporter": "python",
   "pygments_lexer": "ipython3",
   "version": "3.13.7"
  }
 },
 "nbformat": 4,
 "nbformat_minor": 5
}
